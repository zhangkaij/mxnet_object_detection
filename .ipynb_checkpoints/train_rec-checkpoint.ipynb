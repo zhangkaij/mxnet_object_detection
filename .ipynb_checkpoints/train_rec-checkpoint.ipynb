{
 "cells": [
  {
   "cell_type": "code",
   "execution_count": 1,
   "metadata": {},
   "outputs": [],
   "source": [
    "import time\n",
    "from matplotlib import pyplot as plt\n",
    "import numpy as np\n",
    "import mxnet as mx\n",
    "from mxnet import autograd, gluon\n",
    "import gluoncv as gcv\n",
    "from gluoncv.utils import download, viz"
   ]
  },
  {
   "cell_type": "code",
   "execution_count": null,
   "metadata": {},
   "outputs": [
    {
     "name": "stdout",
     "output_type": "stream",
     "text": [
      "Downloading pikachu_train.rec from https://apache-mxnet.s3-accelerate.amazonaws.com/gluon/dataset/pikachu/train.rec...\n"
     ]
    },
    {
     "name": "stderr",
     "output_type": "stream",
     "text": [
      " 90%|████████▉ | 76686/85604 [01:59<00:14, 632.49KB/s]"
     ]
    }
   ],
   "source": [
    "url = 'https://apache-mxnet.s3-accelerate.amazonaws.com/gluon/dataset/pikachu/train.rec'\n",
    "idx_url = 'https://apache-mxnet.s3-accelerate.amazonaws.com/gluon/dataset/pikachu/train.idx'\n",
    "download(url, path='pikachu_train.rec', overwrite=False)\n",
    "download(idx_url, path='pikachu_train.idx', overwrite=False)\n"
   ]
  },
  {
   "cell_type": "code",
   "execution_count": 5,
   "metadata": {},
   "outputs": [],
   "source": [
    "net = gcv.model_zoo.get_model('faster_rcnn_resnet50_v1b_voc', pretrained=True, root='./models')"
   ]
  },
  {
   "cell_type": "code",
   "execution_count": null,
   "metadata": {},
   "outputs": [],
   "source": [
    "classes = ['pikachu']\n",
    "test_url = 'https://raw.githubusercontent.com/zackchase/mxnet-the-straight-dope/master/img/pikachu.jpg'\n",
    "download(test_url, 'pikachu_test.jpg')\n",
    "net = gcv.model_zoo.get_model('faster_rcnn_resnet50_v1b_voc', classes=classes, pretrained_base=False)\n",
    "net.load_parameters('ssd_512_mobilenet1.0_pikachu.params')\n",
    "x, image = gcv.data.transforms.presets.ssd.load_test('pikachu_test.jpg', 512)\n",
    "cid, score, bbox = net(x)\n",
    "ax = viz.plot_bbox(image, bbox[0], score[0], cid[0], class_names=classes)\n",
    "plt.show()"
   ]
  }
 ],
 "metadata": {
  "kernelspec": {
   "display_name": "Python 3",
   "language": "python",
   "name": "python3"
  },
  "language_info": {
   "codemirror_mode": {
    "name": "ipython",
    "version": 3
   },
   "file_extension": ".py",
   "mimetype": "text/x-python",
   "name": "python",
   "nbconvert_exporter": "python",
   "pygments_lexer": "ipython3",
   "version": "3.6.6"
  }
 },
 "nbformat": 4,
 "nbformat_minor": 2
}
